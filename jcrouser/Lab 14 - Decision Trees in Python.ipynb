{
 "cells": [
  {
   "cell_type": "markdown",
   "metadata": {},
   "source": [
    "This lab on Decision Trees is a Python adaptation of p. 324-331 of \"Introduction to Statistical Learning with\n",
    "Applications in R\" by Gareth James, Daniela Witten, Trevor Hastie and Robert Tibshirani. Original adaptation by J. Warmenhoven, updated by R. Jordan Crouser at Smith\n",
    "College for SDS293: Machine Learning (Spring 2016)."
   ]
  },
  {
   "cell_type": "code",
   "execution_count": null,
   "metadata": {
    "collapsed": false
   },
   "outputs": [],
   "source": [
    "import pandas as pd\n",
    "import numpy as np\n",
    "import matplotlib as mpl\n",
    "import matplotlib.pyplot as plt\n",
    "import graphviz\n",
    "\n",
    "%matplotlib inline"
   ]
  },
  {
   "cell_type": "markdown",
   "metadata": {},
   "source": [
    "# 8.3.1 Fitting Classification Trees\n",
    "\n",
    "The ${\\tt sklearn}$ library has a lot of useful tools for constructing classification and regression trees:"
   ]
  },
  {
   "cell_type": "code",
   "execution_count": null,
   "metadata": {
    "collapsed": false
   },
   "outputs": [],
   "source": [
    "from sklearn.cross_validation import train_test_split\n",
    "from sklearn.tree import DecisionTreeRegressor, DecisionTreeClassifier, export_graphviz\n",
    "from sklearn.ensemble import RandomForestRegressor, GradientBoostingRegressor\n",
    "from sklearn.metrics import confusion_matrix, mean_squared_error"
   ]
  },
  {
   "cell_type": "markdown",
   "metadata": {},
   "source": [
    "We'll start by using **classification trees** to analyze the ${\\tt Carseats}$ data set. In these\n",
    "data, ${\\tt Sales}$ is a continuous variable, and so we begin by converting it to a\n",
    "binary variable. We use the ${\\tt ifelse()}$ function to create a variable, called\n",
    "${\\tt High}$, which takes on a value of ${\\tt Yes}$ if the ${\\tt Sales}$ variable exceeds 8, and\n",
    "takes on a value of ${\\tt No}$ otherwise. We'll append this onto our dataFrame using the ${\\tt .map()}$ function, and then do a little data cleaning to tidy things up:"
   ]
  },
  {
   "cell_type": "code",
   "execution_count": null,
   "metadata": {
    "collapsed": false
   },
   "outputs": [],
   "source": [
    "df3 = pd.read_csv('Carseats.csv').drop('Unnamed: 0', axis=1)\n",
    "df3['High'] = df3.Sales.map(lambda x: 1 if x>8 else 0)\n",
    "df3.ShelveLoc = pd.factorize(df3.ShelveLoc)[0]\n",
    "df3.Urban = df3.Urban.map({'No':0, 'Yes':1})\n",
    "df3.US = df3.US.map({'No':0, 'Yes':1})\n",
    "df3.info()"
   ]
  },
  {
   "cell_type": "markdown",
   "metadata": {},
   "source": [
    "In order to properly evaluate the performance of a classification tree on\n",
    "the data, we must estimate the test error rather than simply computing\n",
    "the training error. We first split the observations into a training set and a test\n",
    "set:"
   ]
  },
  {
   "cell_type": "code",
   "execution_count": null,
   "metadata": {
    "collapsed": false
   },
   "outputs": [],
   "source": [
    "X = df3.drop(['Sales', 'High'], axis=1)\n",
    "y = df3.High\n",
    "\n",
    "X_train, X_test, y_train, y_test = train_test_split(X, y, train_size=0.5, random_state=0)"
   ]
  },
  {
   "cell_type": "markdown",
   "metadata": {},
   "source": [
    "We now use the ${\\tt DecisionTreeClassifier()}$ function to fit a classification tree in order to predict\n",
    "${\\tt High}$ using all variables but ${\\tt Sales}$ (that would be a little silly...). Unfortunately, manual pruning is not implemented in ${\\tt sklearn}$: http://scikit-learn.org/stable/modules/tree.html\n",
    "\n",
    "However, we can limit the depth of a tree using the ${\\tt max\\_depth}$ parameter:"
   ]
  },
  {
   "cell_type": "code",
   "execution_count": null,
   "metadata": {
    "collapsed": false
   },
   "outputs": [],
   "source": [
    "clf = DecisionTreeClassifier(max_depth=6)\n",
    "clf.fit(X_train, y_train)\n",
    "clf.score(X_train, y_train)"
   ]
  },
  {
   "cell_type": "markdown",
   "metadata": {},
   "source": [
    "We see that the training accuracy is 95.5%.\n",
    "\n",
    "One of the most attractive properties of trees is that they can be\n",
    "graphically displayed. Unfortunately, this is a bit of a roundabout process in ${\\tt sklearn}$. We use the ${\\tt export\\_graphviz()}$ function to export the tree structure to a temporary ${\\tt .dot}$ file,\n",
    "and the ${\\tt graphviz.Source()}$ function to display the image:"
   ]
  },
  {
   "cell_type": "code",
   "execution_count": null,
   "metadata": {
    "collapsed": false
   },
   "outputs": [],
   "source": [
    "export_graphviz(clf, out_file=\"mytree.dot\", feature_names=X_train.columns)\n",
    "with open(\"mytree.dot\") as f:\n",
    "    dot_graph = f.read()\n",
    "graphviz.Source(dot_graph)"
   ]
  },
  {
   "cell_type": "markdown",
   "metadata": {},
   "source": [
    "The most important indicator of ${\\tt High}$ sales appears to be ${\\tt Price}$."
   ]
  },
  {
   "cell_type": "markdown",
   "metadata": {},
   "source": [
    "Finally, let's evaluate the tree's performance on\n",
    "the test data. The ${\\tt predict()}$ function can be used for this purpose. We can then build a confusion matrix, which shows that we are making correct predictions for\n",
    "around 74.5% of the test data set:"
   ]
  },
  {
   "cell_type": "code",
   "execution_count": null,
   "metadata": {
    "collapsed": false
   },
   "outputs": [],
   "source": [
    "pred = clf.predict(X_test)\n",
    "cm = pd.DataFrame(confusion_matrix(y_test, pred).T, index=['No', 'Yes'], columns=['No', 'Yes'])\n",
    "print(cm)\n",
    "# 99+50/200 = 0.745"
   ]
  },
  {
   "cell_type": "markdown",
   "metadata": {},
   "source": [
    "# 8.3.2 Fitting Regression Trees\n",
    "\n",
    "Now let's try fitting a **regression tree** to the ${\\tt Boston}$ data set from the ${\\tt MASS}$ library. First, we create a\n",
    "training set, and fit the tree to the training data using ${\\tt medv}$ (median home value) as our response:"
   ]
  },
  {
   "cell_type": "code",
   "execution_count": null,
   "metadata": {
    "collapsed": false
   },
   "outputs": [],
   "source": [
    "boston_df = pd.read_csv('Boston.csv')\n",
    "X = boston_df.drop('medv', axis=1)\n",
    "y = boston_df.medv\n",
    "X_train, X_test, y_train, y_test = train_test_split(X, y, train_size=0.5, random_state=0)\n",
    "\n",
    "# Pruning not supported. Choosing max depth 2)\n",
    "regr2 = DecisionTreeRegressor(max_depth=2)\n",
    "regr2.fit(X_train, y_train)"
   ]
  },
  {
   "cell_type": "markdown",
   "metadata": {},
   "source": [
    "Let's take a look at the tree:"
   ]
  },
  {
   "cell_type": "code",
   "execution_count": null,
   "metadata": {
    "collapsed": false
   },
   "outputs": [],
   "source": [
    "export_graphviz(regr2, out_file=\"mytree.dot\", feature_names=X_train.columns)\n",
    "with open(\"mytree.dot\") as f:\n",
    "    dot_graph = f.read()\n",
    "graphviz.Source(dot_graph)"
   ]
  },
  {
   "cell_type": "markdown",
   "metadata": {},
   "source": [
    "The variable ${\\tt lstat}$ measures the percentage of individuals with lower\n",
    "socioeconomic status. The tree indicates that lower values of ${\\tt lstat}$ correspond\n",
    "to more expensive houses. The tree predicts a median house price\n",
    "of \\$45,766 for larger homes (${\\tt rm}>=7.435$) in suburbs in which residents have high socioeconomic\n",
    "status (${\\tt lstat}<7.81$).\n",
    "\n",
    "Now let's see how it does on the test data:"
   ]
  },
  {
   "cell_type": "code",
   "execution_count": null,
   "metadata": {
    "collapsed": false
   },
   "outputs": [],
   "source": [
    "pred = regr2.predict(X_test)\n",
    "\n",
    "plt.scatter(pred, y_test, label='medv')\n",
    "plt.plot([0, 1], [0, 1], '--k', transform=plt.gca().transAxes)\n",
    "plt.xlabel('pred')\n",
    "plt.ylabel('y_test')\n",
    "\n",
    "mean_squared_error(y_test, pred)"
   ]
  },
  {
   "cell_type": "markdown",
   "metadata": {},
   "source": [
    "The test set MSE associated with the regression tree is\n",
    "28.8. The square root of the MSE is therefore around 5.37, indicating\n",
    "that this model leads to test predictions that are within around \\$5,370 of\n",
    "the true median home value for the suburb.\n",
    "    \n",
    "# 8.3.3 Bagging and Random Forests\n",
    "\n",
    "Let's see if we can improve on this result using **bagging** and **random forests**. The exact results obtained in this section may\n",
    "depend on the version of ${\\tt python}$ and the version of the ${\\tt RandomForestRegressor}$ package\n",
    "installed on your computer, so don't stress out if you don't match up exactly with the book. Recall that **bagging** is simply a special case of\n",
    "a **random forest** with $m = p$. Therefore, the ${\\tt RandomForestRegressor()}$ function can\n",
    "be used to perform both random forests and bagging. Let's start with bagging:"
   ]
  },
  {
   "cell_type": "code",
   "execution_count": null,
   "metadata": {
    "collapsed": false
   },
   "outputs": [],
   "source": [
    "# Bagging: using all features\n",
    "regr1 = RandomForestRegressor(max_features=13, random_state=1)\n",
    "regr1.fit(X_train, y_train)"
   ]
  },
  {
   "cell_type": "markdown",
   "metadata": {},
   "source": [
    "The argument ${\\tt max\\_features=13}$ indicates that all 13 predictors should be considered\n",
    "for each split of the tree -- in other words, that bagging should be done. How\n",
    "well does this bagged model perform on the test set?"
   ]
  },
  {
   "cell_type": "code",
   "execution_count": null,
   "metadata": {
    "collapsed": false
   },
   "outputs": [],
   "source": [
    "pred = regr1.predict(X_test)\n",
    "plt.scatter(pred, y_test, label='medv')\n",
    "plt.plot([0, 1], [0, 1], '--k', transform=plt.gca().transAxes)\n",
    "plt.xlabel('pred')\n",
    "plt.ylabel('y_test')\n",
    "mean_squared_error(y_test, pred)"
   ]
  },
  {
   "cell_type": "markdown",
   "metadata": {},
   "source": [
    "The test setMSE associated with the bagged regression tree is significantly lower than our single tree!"
   ]
  },
  {
   "cell_type": "markdown",
   "metadata": {},
   "source": [
    "We can grow a random forest in exactly the same way, except that\n",
    "we'll use a smaller value of the ${\\tt max\\_features}$ argument. Here we'll\n",
    "use ${\\tt max\\_features = 6}$:"
   ]
  },
  {
   "cell_type": "code",
   "execution_count": null,
   "metadata": {
    "collapsed": false
   },
   "outputs": [],
   "source": [
    "# Random forests: using 6 features\n",
    "regr2 = RandomForestRegressor(max_features=6, random_state=1)\n",
    "regr2.fit(X_train, y_train)\n",
    "\n",
    "pred = regr2.predict(X_test)\n",
    "mean_squared_error(y_test, pred)"
   ]
  },
  {
   "cell_type": "markdown",
   "metadata": {},
   "source": [
    "The test set MSE is even lower; this indicates that random forests yielded an\n",
    "improvement over bagging in this case.\n",
    "\n",
    "Using the ${\\tt feature\\_importances\\_}$ attribute of the ${\\tt RandomForestRegressor}$, we can view the importance of each\n",
    "variable:"
   ]
  },
  {
   "cell_type": "code",
   "execution_count": null,
   "metadata": {
    "collapsed": false
   },
   "outputs": [],
   "source": [
    "Importance = pd.DataFrame({'Importance':regr2.feature_importances_*100}, index=X.columns)\n",
    "Importance.sort_values(by='Importance', axis=0, ascending=True).plot(kind='barh', color='r', )\n",
    "plt.xlabel('Variable Importance')\n",
    "plt.gca().legend_ = None"
   ]
  },
  {
   "cell_type": "markdown",
   "metadata": {},
   "source": [
    "The results indicate that across all of the trees considered in the random\n",
    "forest, the wealth level of the community (${\\tt lstat}$) and the house size (${\\tt rm}$)\n",
    "are by far the two most important variables."
   ]
  },
  {
   "cell_type": "markdown",
   "metadata": {},
   "source": [
    "# 8.3.4 Boosting\n",
    "\n",
    "Now we'll use the ${\\tt GradientBoostingRegressor}$ package to fit **boosted\n",
    "regression trees** to the ${\\tt Boston}$ data set. The\n",
    "argument ${\\tt n_estimators=500}$ indicates that we want 500 trees, and the option\n",
    "${\\tt interaction.depth=4}$ limits the depth of each tree:"
   ]
  },
  {
   "cell_type": "code",
   "execution_count": null,
   "metadata": {
    "collapsed": false
   },
   "outputs": [],
   "source": [
    "regr = GradientBoostingRegressor(n_estimators=500, learning_rate=0.01, max_depth=4, random_state=1)\n",
    "regr.fit(X_train, y_train)"
   ]
  },
  {
   "cell_type": "markdown",
   "metadata": {},
   "source": [
    "Let's check out the feature importances again:"
   ]
  },
  {
   "cell_type": "code",
   "execution_count": null,
   "metadata": {
    "collapsed": false
   },
   "outputs": [],
   "source": [
    "feature_importance = regr.feature_importances_*100\n",
    "rel_imp = pd.Series(feature_importance, index=X.columns).sort_values(inplace=False)\n",
    "rel_imp.T.plot(kind='barh', color='r', )\n",
    "plt.xlabel('Variable Importance')\n",
    "plt.gca().legend_ = None"
   ]
  },
  {
   "cell_type": "markdown",
   "metadata": {},
   "source": [
    "We see that ${\\tt lstat}$ and ${\\tt rm}$ are again the most important variables by far. Now let's use the boosted model to predict ${\\tt medv}$ on the test set:"
   ]
  },
  {
   "cell_type": "code",
   "execution_count": null,
   "metadata": {
    "collapsed": false
   },
   "outputs": [],
   "source": [
    "mean_squared_error(y_test, regr.predict(X_test))"
   ]
  },
  {
   "cell_type": "markdown",
   "metadata": {},
   "source": [
    "The test MSE obtained is similar to the test MSE for random forests\n",
    "and superior to that for bagging. If we want to, we can perform boosting\n",
    "with a different value of the shrinkage parameter $\\lambda$. Here we take $\\lambda = 0.2$:"
   ]
  },
  {
   "cell_type": "code",
   "execution_count": null,
   "metadata": {
    "collapsed": false
   },
   "outputs": [],
   "source": [
    "regr2 = GradientBoostingRegressor(n_estimators=500, learning_rate=0.2, max_depth=4, random_state=1)\n",
    "regr2.fit(X_train, y_train)\n",
    "mean_squared_error(y_test, regr2.predict(X_test))"
   ]
  },
  {
   "cell_type": "markdown",
   "metadata": {},
   "source": [
    "In this case, using $\\lambda = 0.2$ leads to a slightly lower test MSE than $\\lambda = 0.01$.\n",
    "\n",
    "To get credit for this lab, post your responses to the following questions:\n",
    " - What's one real-world scenario where you might try using Bagging?\n",
    " - What's one real-world scenario where you might try using Random Forests?\n",
    " - What's one real-world scenario where you might try using Boosting?\n",
    " \n",
    "to Piazza: https://piazza.com/class/igwiv4w3ctb6rg?cid=53"
   ]
  }
 ],
 "metadata": {
  "anaconda-cloud": {},
  "kernelspec": {
   "display_name": "Python [conda root]",
   "language": "python",
   "name": "conda-root-py"
  },
  "language_info": {
   "codemirror_mode": {
    "name": "ipython",
    "version": 2
   },
   "file_extension": ".py",
   "mimetype": "text/x-python",
   "name": "python",
   "nbconvert_exporter": "python",
   "pygments_lexer": "ipython2",
   "version": "2.7.11"
  }
 },
 "nbformat": 4,
 "nbformat_minor": 0
}
